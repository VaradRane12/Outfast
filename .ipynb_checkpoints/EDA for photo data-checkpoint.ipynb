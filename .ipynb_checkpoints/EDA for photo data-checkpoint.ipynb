{
 "cells": [
  {
   "cell_type": "code",
   "execution_count": 1,
   "id": "f42666fb-e36d-4c33-bab4-f0600e2db417",
   "metadata": {},
   "outputs": [],
   "source": [
    "import pandas as pd"
   ]
  },
  {
   "cell_type": "code",
   "execution_count": 2,
   "id": "4a7989cf-421e-4c5c-854a-4d5a4464cdee",
   "metadata": {},
   "outputs": [],
   "source": [
    "df = pd.read_csv(r\"Fashion Data\\styles.csv\")"
   ]
  },
  {
   "cell_type": "code",
   "execution_count": 3,
   "id": "ed868e19-e05b-4340-909b-7bb985fb49e4",
   "metadata": {
    "scrolled": true
   },
   "outputs": [
    {
     "data": {
      "text/html": [
       "<div>\n",
       "<style scoped>\n",
       "    .dataframe tbody tr th:only-of-type {\n",
       "        vertical-align: middle;\n",
       "    }\n",
       "\n",
       "    .dataframe tbody tr th {\n",
       "        vertical-align: top;\n",
       "    }\n",
       "\n",
       "    .dataframe thead th {\n",
       "        text-align: right;\n",
       "    }\n",
       "</style>\n",
       "<table border=\"1\" class=\"dataframe\">\n",
       "  <thead>\n",
       "    <tr style=\"text-align: right;\">\n",
       "      <th></th>\n",
       "      <th>id</th>\n",
       "      <th>gender</th>\n",
       "      <th>masterCategory</th>\n",
       "      <th>subCategory</th>\n",
       "      <th>articleType</th>\n",
       "      <th>baseColour</th>\n",
       "      <th>season</th>\n",
       "      <th>year</th>\n",
       "      <th>usage</th>\n",
       "      <th>productDisplayName</th>\n",
       "      <th>Unnamed: 10</th>\n",
       "      <th>Unnamed: 11</th>\n",
       "    </tr>\n",
       "  </thead>\n",
       "  <tbody>\n",
       "    <tr>\n",
       "      <th>0</th>\n",
       "      <td>15970</td>\n",
       "      <td>Men</td>\n",
       "      <td>Apparel</td>\n",
       "      <td>Topwear</td>\n",
       "      <td>Shirts</td>\n",
       "      <td>Navy Blue</td>\n",
       "      <td>Fall</td>\n",
       "      <td>2011.0</td>\n",
       "      <td>Casual</td>\n",
       "      <td>Turtle Check Men Navy Blue Shirt</td>\n",
       "      <td>NaN</td>\n",
       "      <td>NaN</td>\n",
       "    </tr>\n",
       "    <tr>\n",
       "      <th>1</th>\n",
       "      <td>39386</td>\n",
       "      <td>Men</td>\n",
       "      <td>Apparel</td>\n",
       "      <td>Bottomwear</td>\n",
       "      <td>Jeans</td>\n",
       "      <td>Blue</td>\n",
       "      <td>Summer</td>\n",
       "      <td>2012.0</td>\n",
       "      <td>Casual</td>\n",
       "      <td>Peter England Men Party Blue Jeans</td>\n",
       "      <td>NaN</td>\n",
       "      <td>NaN</td>\n",
       "    </tr>\n",
       "    <tr>\n",
       "      <th>2</th>\n",
       "      <td>59263</td>\n",
       "      <td>Women</td>\n",
       "      <td>Accessories</td>\n",
       "      <td>Watches</td>\n",
       "      <td>Watches</td>\n",
       "      <td>Silver</td>\n",
       "      <td>Winter</td>\n",
       "      <td>2016.0</td>\n",
       "      <td>Casual</td>\n",
       "      <td>Titan Women Silver Watch</td>\n",
       "      <td>NaN</td>\n",
       "      <td>NaN</td>\n",
       "    </tr>\n",
       "    <tr>\n",
       "      <th>3</th>\n",
       "      <td>21379</td>\n",
       "      <td>Men</td>\n",
       "      <td>Apparel</td>\n",
       "      <td>Bottomwear</td>\n",
       "      <td>Track Pants</td>\n",
       "      <td>Black</td>\n",
       "      <td>Fall</td>\n",
       "      <td>2011.0</td>\n",
       "      <td>Casual</td>\n",
       "      <td>Manchester United Men Solid Black Track Pants</td>\n",
       "      <td>NaN</td>\n",
       "      <td>NaN</td>\n",
       "    </tr>\n",
       "    <tr>\n",
       "      <th>4</th>\n",
       "      <td>53759</td>\n",
       "      <td>Men</td>\n",
       "      <td>Apparel</td>\n",
       "      <td>Topwear</td>\n",
       "      <td>Tshirts</td>\n",
       "      <td>Grey</td>\n",
       "      <td>Summer</td>\n",
       "      <td>2012.0</td>\n",
       "      <td>Casual</td>\n",
       "      <td>Puma Men Grey T-shirt</td>\n",
       "      <td>NaN</td>\n",
       "      <td>NaN</td>\n",
       "    </tr>\n",
       "  </tbody>\n",
       "</table>\n",
       "</div>"
      ],
      "text/plain": [
       "      id gender masterCategory subCategory  articleType baseColour  season  \\\n",
       "0  15970    Men        Apparel     Topwear       Shirts  Navy Blue    Fall   \n",
       "1  39386    Men        Apparel  Bottomwear        Jeans       Blue  Summer   \n",
       "2  59263  Women    Accessories     Watches      Watches     Silver  Winter   \n",
       "3  21379    Men        Apparel  Bottomwear  Track Pants      Black    Fall   \n",
       "4  53759    Men        Apparel     Topwear      Tshirts       Grey  Summer   \n",
       "\n",
       "     year   usage                             productDisplayName  Unnamed: 10  \\\n",
       "0  2011.0  Casual               Turtle Check Men Navy Blue Shirt          NaN   \n",
       "1  2012.0  Casual             Peter England Men Party Blue Jeans          NaN   \n",
       "2  2016.0  Casual                       Titan Women Silver Watch          NaN   \n",
       "3  2011.0  Casual  Manchester United Men Solid Black Track Pants          NaN   \n",
       "4  2012.0  Casual                          Puma Men Grey T-shirt          NaN   \n",
       "\n",
       "  Unnamed: 11  \n",
       "0         NaN  \n",
       "1         NaN  \n",
       "2         NaN  \n",
       "3         NaN  \n",
       "4         NaN  "
      ]
     },
     "execution_count": 3,
     "metadata": {},
     "output_type": "execute_result"
    }
   ],
   "source": [
    "df.head()"
   ]
  },
  {
   "cell_type": "code",
   "execution_count": 4,
   "id": "c4621fee-86e8-4f60-9e84-e23c9e086a76",
   "metadata": {
    "scrolled": true
   },
   "outputs": [
    {
     "data": {
      "text/plain": [
       "id                        0\n",
       "gender                    0\n",
       "masterCategory            0\n",
       "subCategory               0\n",
       "articleType               0\n",
       "baseColour               15\n",
       "season                   21\n",
       "year                      1\n",
       "usage                   317\n",
       "productDisplayName        7\n",
       "Unnamed: 10           44446\n",
       "Unnamed: 11           44444\n",
       "dtype: int64"
      ]
     },
     "execution_count": 4,
     "metadata": {},
     "output_type": "execute_result"
    }
   ],
   "source": [
    "df.isna().sum()"
   ]
  },
  {
   "cell_type": "code",
   "execution_count": 5,
   "id": "fb4b07a3-d4f6-440a-995c-e2d9f183a761",
   "metadata": {},
   "outputs": [],
   "source": [
    "df.drop([\"Unnamed: 10\",\"Unnamed: 11\"],axis = 1,inplace = True)"
   ]
  },
  {
   "cell_type": "code",
   "execution_count": 6,
   "id": "43b84fce-3c76-44e1-9c1e-d34758b470a7",
   "metadata": {
    "scrolled": true
   },
   "outputs": [
    {
     "data": {
      "text/html": [
       "<div>\n",
       "<style scoped>\n",
       "    .dataframe tbody tr th:only-of-type {\n",
       "        vertical-align: middle;\n",
       "    }\n",
       "\n",
       "    .dataframe tbody tr th {\n",
       "        vertical-align: top;\n",
       "    }\n",
       "\n",
       "    .dataframe thead th {\n",
       "        text-align: right;\n",
       "    }\n",
       "</style>\n",
       "<table border=\"1\" class=\"dataframe\">\n",
       "  <thead>\n",
       "    <tr style=\"text-align: right;\">\n",
       "      <th></th>\n",
       "      <th>id</th>\n",
       "      <th>gender</th>\n",
       "      <th>masterCategory</th>\n",
       "      <th>subCategory</th>\n",
       "      <th>articleType</th>\n",
       "      <th>baseColour</th>\n",
       "      <th>season</th>\n",
       "      <th>year</th>\n",
       "      <th>usage</th>\n",
       "      <th>productDisplayName</th>\n",
       "    </tr>\n",
       "  </thead>\n",
       "  <tbody>\n",
       "    <tr>\n",
       "      <th>0</th>\n",
       "      <td>15970</td>\n",
       "      <td>Men</td>\n",
       "      <td>Apparel</td>\n",
       "      <td>Topwear</td>\n",
       "      <td>Shirts</td>\n",
       "      <td>Navy Blue</td>\n",
       "      <td>Fall</td>\n",
       "      <td>2011.0</td>\n",
       "      <td>Casual</td>\n",
       "      <td>Turtle Check Men Navy Blue Shirt</td>\n",
       "    </tr>\n",
       "    <tr>\n",
       "      <th>1</th>\n",
       "      <td>39386</td>\n",
       "      <td>Men</td>\n",
       "      <td>Apparel</td>\n",
       "      <td>Bottomwear</td>\n",
       "      <td>Jeans</td>\n",
       "      <td>Blue</td>\n",
       "      <td>Summer</td>\n",
       "      <td>2012.0</td>\n",
       "      <td>Casual</td>\n",
       "      <td>Peter England Men Party Blue Jeans</td>\n",
       "    </tr>\n",
       "    <tr>\n",
       "      <th>2</th>\n",
       "      <td>59263</td>\n",
       "      <td>Women</td>\n",
       "      <td>Accessories</td>\n",
       "      <td>Watches</td>\n",
       "      <td>Watches</td>\n",
       "      <td>Silver</td>\n",
       "      <td>Winter</td>\n",
       "      <td>2016.0</td>\n",
       "      <td>Casual</td>\n",
       "      <td>Titan Women Silver Watch</td>\n",
       "    </tr>\n",
       "    <tr>\n",
       "      <th>3</th>\n",
       "      <td>21379</td>\n",
       "      <td>Men</td>\n",
       "      <td>Apparel</td>\n",
       "      <td>Bottomwear</td>\n",
       "      <td>Track Pants</td>\n",
       "      <td>Black</td>\n",
       "      <td>Fall</td>\n",
       "      <td>2011.0</td>\n",
       "      <td>Casual</td>\n",
       "      <td>Manchester United Men Solid Black Track Pants</td>\n",
       "    </tr>\n",
       "    <tr>\n",
       "      <th>4</th>\n",
       "      <td>53759</td>\n",
       "      <td>Men</td>\n",
       "      <td>Apparel</td>\n",
       "      <td>Topwear</td>\n",
       "      <td>Tshirts</td>\n",
       "      <td>Grey</td>\n",
       "      <td>Summer</td>\n",
       "      <td>2012.0</td>\n",
       "      <td>Casual</td>\n",
       "      <td>Puma Men Grey T-shirt</td>\n",
       "    </tr>\n",
       "  </tbody>\n",
       "</table>\n",
       "</div>"
      ],
      "text/plain": [
       "      id gender masterCategory subCategory  articleType baseColour  season  \\\n",
       "0  15970    Men        Apparel     Topwear       Shirts  Navy Blue    Fall   \n",
       "1  39386    Men        Apparel  Bottomwear        Jeans       Blue  Summer   \n",
       "2  59263  Women    Accessories     Watches      Watches     Silver  Winter   \n",
       "3  21379    Men        Apparel  Bottomwear  Track Pants      Black    Fall   \n",
       "4  53759    Men        Apparel     Topwear      Tshirts       Grey  Summer   \n",
       "\n",
       "     year   usage                             productDisplayName  \n",
       "0  2011.0  Casual               Turtle Check Men Navy Blue Shirt  \n",
       "1  2012.0  Casual             Peter England Men Party Blue Jeans  \n",
       "2  2016.0  Casual                       Titan Women Silver Watch  \n",
       "3  2011.0  Casual  Manchester United Men Solid Black Track Pants  \n",
       "4  2012.0  Casual                          Puma Men Grey T-shirt  "
      ]
     },
     "execution_count": 6,
     "metadata": {},
     "output_type": "execute_result"
    }
   ],
   "source": [
    "df.head()"
   ]
  },
  {
   "cell_type": "code",
   "execution_count": 7,
   "id": "f99b6ca8-1033-4f2d-b66f-c1774e74e42d",
   "metadata": {},
   "outputs": [],
   "source": [
    "df = df.apply(lambda col: col.fillna(col.mode()[0]))"
   ]
  },
  {
   "cell_type": "code",
   "execution_count": 8,
   "id": "489db7be-f819-4962-90f6-ed1ad3f77466",
   "metadata": {},
   "outputs": [
    {
     "data": {
      "text/plain": [
       "id                    0\n",
       "gender                0\n",
       "masterCategory        0\n",
       "subCategory           0\n",
       "articleType           0\n",
       "baseColour            0\n",
       "season                0\n",
       "year                  0\n",
       "usage                 0\n",
       "productDisplayName    0\n",
       "dtype: int64"
      ]
     },
     "execution_count": 8,
     "metadata": {},
     "output_type": "execute_result"
    }
   ],
   "source": [
    "df.isna().sum()"
   ]
  },
  {
   "cell_type": "code",
   "execution_count": 9,
   "id": "ed126259-a05f-4fb0-a90a-3b48483e10db",
   "metadata": {
    "scrolled": true
   },
   "outputs": [
    {
     "data": {
      "text/plain": [
       "Index(['id', 'gender', 'masterCategory', 'subCategory', 'articleType',\n",
       "       'baseColour', 'season', 'year', 'usage', 'productDisplayName'],\n",
       "      dtype='object')"
      ]
     },
     "execution_count": 9,
     "metadata": {},
     "output_type": "execute_result"
    }
   ],
   "source": [
    "df.columns"
   ]
  },
  {
   "cell_type": "code",
   "execution_count": 10,
   "id": "3af7ac54-c452-4e38-a8b4-e6468fed6efd",
   "metadata": {
    "scrolled": true
   },
   "outputs": [
    {
     "data": {
      "text/plain": [
       "array(['Shirts', 'Jeans', 'Watches', 'Track Pants', 'Tshirts', 'Socks',\n",
       "       'Casual Shoes', 'Belts', 'Flip Flops', 'Handbags', 'Tops', 'Bra',\n",
       "       'Sandals', 'Shoe Accessories', 'Sweatshirts', 'Deodorant',\n",
       "       'Formal Shoes', 'Bracelet', 'Lipstick', 'Flats', 'Kurtas',\n",
       "       'Waistcoat', 'Sports Shoes', 'Shorts', 'Briefs', 'Sarees',\n",
       "       'Perfume and Body Mist', 'Heels', 'Sunglasses', 'Innerwear Vests',\n",
       "       'Pendant', 'Nail Polish', 'Laptop Bag', 'Scarves', 'Rain Jacket',\n",
       "       'Dresses', 'Night suits', 'Skirts', 'Wallets', 'Blazers', 'Ring',\n",
       "       'Kurta Sets', 'Clutches', 'Shrug', 'Backpacks', 'Caps', 'Trousers',\n",
       "       'Earrings', 'Camisoles', 'Boxers', 'Jewellery Set', 'Dupatta',\n",
       "       'Capris', 'Lip Gloss', 'Bath Robe', 'Mufflers', 'Tunics',\n",
       "       'Jackets', 'Trunk', 'Lounge Pants', 'Face Wash and Cleanser',\n",
       "       'Necklace and Chains', 'Duffel Bag', 'Sports Sandals',\n",
       "       'Foundation and Primer', 'Sweaters', 'Free Gifts', 'Trolley Bag',\n",
       "       'Tracksuits', 'Swimwear', 'Shoe Laces', 'Fragrance Gift Set',\n",
       "       'Bangle', 'Nightdress', 'Ties', 'Baby Dolls', 'Leggings',\n",
       "       'Highlighter and Blush', 'Travel Accessory', 'Kurtis',\n",
       "       'Mobile Pouch', 'Messenger Bag', 'Lip Care', 'Face Moisturisers',\n",
       "       'Compact', 'Eye Cream', 'Accessory Gift Set', 'Beauty Accessory',\n",
       "       'Jumpsuit', 'Kajal and Eyeliner', 'Water Bottle', 'Suspenders',\n",
       "       'Lip Liner', 'Robe', 'Salwar and Dupatta', 'Patiala', 'Stockings',\n",
       "       'Eyeshadow', 'Headband', 'Tights', 'Nail Essentials', 'Churidar',\n",
       "       'Lounge Tshirts', 'Face Scrub and Exfoliator', 'Lounge Shorts',\n",
       "       'Gloves', 'Mask and Peel', 'Wristbands', 'Tablet Sleeve',\n",
       "       'Ties and Cufflinks', 'Footballs', 'Stoles', 'Shapewear',\n",
       "       'Nehru Jackets', 'Salwar', 'Cufflinks', 'Jeggings', 'Hair Colour',\n",
       "       'Concealer', 'Rompers', 'Body Lotion', 'Sunscreen', 'Booties',\n",
       "       'Waist Pouch', 'Hair Accessory', 'Rucksacks', 'Basketballs',\n",
       "       'Lehenga Choli', 'Clothing Set', 'Mascara', 'Toner',\n",
       "       'Cushion Covers', 'Key chain', 'Makeup Remover', 'Lip Plumper',\n",
       "       'Umbrellas', 'Face Serum and Gel', 'Hat', 'Mens Grooming Kit',\n",
       "       'Rain Trousers', 'Body Wash and Scrub', 'Suits', 'Ipad'],\n",
       "      dtype=object)"
      ]
     },
     "execution_count": 10,
     "metadata": {},
     "output_type": "execute_result"
    }
   ],
   "source": [
    "df[\"articleType\"].unique()\n"
   ]
  },
  {
   "cell_type": "code",
   "execution_count": 11,
   "id": "d261c48d-38aa-46a9-8f96-26e5d5cfb63e",
   "metadata": {
    "scrolled": true
   },
   "outputs": [
    {
     "data": {
      "text/plain": [
       "array(['Topwear', 'Bottomwear', 'Watches', 'Socks', 'Shoes', 'Belts',\n",
       "       'Flip Flops', 'Bags', 'Innerwear', 'Sandal', 'Shoe Accessories',\n",
       "       'Fragrance', 'Jewellery', 'Lips', 'Saree', 'Eyewear', 'Nails',\n",
       "       'Scarves', 'Dress', 'Loungewear and Nightwear', 'Wallets',\n",
       "       'Apparel Set', 'Headwear', 'Mufflers', 'Skin Care', 'Makeup',\n",
       "       'Free Gifts', 'Ties', 'Accessories', 'Skin', 'Beauty Accessories',\n",
       "       'Water Bottle', 'Eyes', 'Bath and Body', 'Gloves',\n",
       "       'Sports Accessories', 'Cufflinks', 'Sports Equipment', 'Stoles',\n",
       "       'Hair', 'Perfumes', 'Home Furnishing', 'Umbrellas', 'Wristbands',\n",
       "       'Vouchers'], dtype=object)"
      ]
     },
     "execution_count": 11,
     "metadata": {},
     "output_type": "execute_result"
    }
   ],
   "source": [
    "df[\"subCategory\"].unique()"
   ]
  },
  {
   "cell_type": "code",
   "execution_count": 12,
   "id": "47183a62-7868-4bea-aa1a-7987e63b91f3",
   "metadata": {
    "scrolled": true
   },
   "outputs": [
    {
     "data": {
      "text/plain": [
       "array(['Shirts', 'Jeans', 'Watches', 'Track Pants', 'Tshirts', 'Socks',\n",
       "       'Casual Shoes', 'Belts', 'Flip Flops', 'Handbags', 'Tops', 'Bra',\n",
       "       'Sandals', 'Shoe Accessories', 'Sweatshirts', 'Deodorant',\n",
       "       'Formal Shoes', 'Bracelet', 'Lipstick', 'Flats', 'Kurtas',\n",
       "       'Waistcoat', 'Sports Shoes', 'Shorts', 'Briefs', 'Sarees',\n",
       "       'Perfume and Body Mist', 'Heels', 'Sunglasses', 'Innerwear Vests',\n",
       "       'Pendant', 'Nail Polish', 'Laptop Bag', 'Scarves', 'Rain Jacket',\n",
       "       'Dresses', 'Night suits', 'Skirts', 'Wallets', 'Blazers', 'Ring',\n",
       "       'Kurta Sets', 'Clutches', 'Shrug', 'Backpacks', 'Caps', 'Trousers',\n",
       "       'Earrings', 'Camisoles', 'Boxers', 'Jewellery Set', 'Dupatta',\n",
       "       'Capris', 'Lip Gloss', 'Bath Robe', 'Mufflers', 'Tunics',\n",
       "       'Jackets', 'Trunk', 'Lounge Pants', 'Face Wash and Cleanser',\n",
       "       'Necklace and Chains', 'Duffel Bag', 'Sports Sandals',\n",
       "       'Foundation and Primer', 'Sweaters', 'Free Gifts', 'Trolley Bag',\n",
       "       'Tracksuits', 'Swimwear', 'Shoe Laces', 'Fragrance Gift Set',\n",
       "       'Bangle', 'Nightdress', 'Ties', 'Baby Dolls', 'Leggings',\n",
       "       'Highlighter and Blush', 'Travel Accessory', 'Kurtis',\n",
       "       'Mobile Pouch', 'Messenger Bag', 'Lip Care', 'Face Moisturisers',\n",
       "       'Compact', 'Eye Cream', 'Accessory Gift Set', 'Beauty Accessory',\n",
       "       'Jumpsuit', 'Kajal and Eyeliner', 'Water Bottle', 'Suspenders',\n",
       "       'Lip Liner', 'Robe', 'Salwar and Dupatta', 'Patiala', 'Stockings',\n",
       "       'Eyeshadow', 'Headband', 'Tights', 'Nail Essentials', 'Churidar',\n",
       "       'Lounge Tshirts', 'Face Scrub and Exfoliator', 'Lounge Shorts',\n",
       "       'Gloves', 'Mask and Peel', 'Wristbands', 'Tablet Sleeve',\n",
       "       'Ties and Cufflinks', 'Footballs', 'Stoles', 'Shapewear',\n",
       "       'Nehru Jackets', 'Salwar', 'Cufflinks', 'Jeggings', 'Hair Colour',\n",
       "       'Concealer', 'Rompers', 'Body Lotion', 'Sunscreen', 'Booties',\n",
       "       'Waist Pouch', 'Hair Accessory', 'Rucksacks', 'Basketballs',\n",
       "       'Lehenga Choli', 'Clothing Set', 'Mascara', 'Toner',\n",
       "       'Cushion Covers', 'Key chain', 'Makeup Remover', 'Lip Plumper',\n",
       "       'Umbrellas', 'Face Serum and Gel', 'Hat', 'Mens Grooming Kit',\n",
       "       'Rain Trousers', 'Body Wash and Scrub', 'Suits', 'Ipad'],\n",
       "      dtype=object)"
      ]
     },
     "execution_count": 12,
     "metadata": {},
     "output_type": "execute_result"
    }
   ],
   "source": [
    "df[\"articleType\"].unique()"
   ]
  },
  {
   "cell_type": "code",
   "execution_count": 13,
   "id": "85601afe-a9e4-422d-b175-8767a366c222",
   "metadata": {},
   "outputs": [],
   "source": [
    "a = list(df[\"articleType\"].unique())"
   ]
  },
  {
   "cell_type": "code",
   "execution_count": 14,
   "id": "15554831-7a13-4919-887e-45d773aa8c80",
   "metadata": {
    "scrolled": true
   },
   "outputs": [
    {
     "data": {
      "text/plain": [
       "['Shirts',\n",
       " 'Jeans',\n",
       " 'Watches',\n",
       " 'Track Pants',\n",
       " 'Tshirts',\n",
       " 'Socks',\n",
       " 'Casual Shoes',\n",
       " 'Belts',\n",
       " 'Flip Flops',\n",
       " 'Handbags',\n",
       " 'Tops',\n",
       " 'Bra',\n",
       " 'Sandals',\n",
       " 'Shoe Accessories',\n",
       " 'Sweatshirts',\n",
       " 'Deodorant',\n",
       " 'Formal Shoes',\n",
       " 'Bracelet',\n",
       " 'Lipstick',\n",
       " 'Flats',\n",
       " 'Kurtas',\n",
       " 'Waistcoat',\n",
       " 'Sports Shoes',\n",
       " 'Shorts',\n",
       " 'Briefs',\n",
       " 'Sarees',\n",
       " 'Perfume and Body Mist',\n",
       " 'Heels',\n",
       " 'Sunglasses',\n",
       " 'Innerwear Vests',\n",
       " 'Pendant',\n",
       " 'Nail Polish',\n",
       " 'Laptop Bag',\n",
       " 'Scarves',\n",
       " 'Rain Jacket',\n",
       " 'Dresses',\n",
       " 'Night suits',\n",
       " 'Skirts',\n",
       " 'Wallets',\n",
       " 'Blazers',\n",
       " 'Ring',\n",
       " 'Kurta Sets',\n",
       " 'Clutches',\n",
       " 'Shrug',\n",
       " 'Backpacks',\n",
       " 'Caps',\n",
       " 'Trousers',\n",
       " 'Earrings',\n",
       " 'Camisoles',\n",
       " 'Boxers',\n",
       " 'Jewellery Set',\n",
       " 'Dupatta',\n",
       " 'Capris',\n",
       " 'Lip Gloss',\n",
       " 'Bath Robe',\n",
       " 'Mufflers',\n",
       " 'Tunics',\n",
       " 'Jackets',\n",
       " 'Trunk',\n",
       " 'Lounge Pants',\n",
       " 'Face Wash and Cleanser',\n",
       " 'Necklace and Chains',\n",
       " 'Duffel Bag',\n",
       " 'Sports Sandals',\n",
       " 'Foundation and Primer',\n",
       " 'Sweaters',\n",
       " 'Free Gifts',\n",
       " 'Trolley Bag',\n",
       " 'Tracksuits',\n",
       " 'Swimwear',\n",
       " 'Shoe Laces',\n",
       " 'Fragrance Gift Set',\n",
       " 'Bangle',\n",
       " 'Nightdress',\n",
       " 'Ties',\n",
       " 'Baby Dolls',\n",
       " 'Leggings',\n",
       " 'Highlighter and Blush',\n",
       " 'Travel Accessory',\n",
       " 'Kurtis',\n",
       " 'Mobile Pouch',\n",
       " 'Messenger Bag',\n",
       " 'Lip Care',\n",
       " 'Face Moisturisers',\n",
       " 'Compact',\n",
       " 'Eye Cream',\n",
       " 'Accessory Gift Set',\n",
       " 'Beauty Accessory',\n",
       " 'Jumpsuit',\n",
       " 'Kajal and Eyeliner',\n",
       " 'Water Bottle',\n",
       " 'Suspenders',\n",
       " 'Lip Liner',\n",
       " 'Robe',\n",
       " 'Salwar and Dupatta',\n",
       " 'Patiala',\n",
       " 'Stockings',\n",
       " 'Eyeshadow',\n",
       " 'Headband',\n",
       " 'Tights',\n",
       " 'Nail Essentials',\n",
       " 'Churidar',\n",
       " 'Lounge Tshirts',\n",
       " 'Face Scrub and Exfoliator',\n",
       " 'Lounge Shorts',\n",
       " 'Gloves',\n",
       " 'Mask and Peel',\n",
       " 'Wristbands',\n",
       " 'Tablet Sleeve',\n",
       " 'Ties and Cufflinks',\n",
       " 'Footballs',\n",
       " 'Stoles',\n",
       " 'Shapewear',\n",
       " 'Nehru Jackets',\n",
       " 'Salwar',\n",
       " 'Cufflinks',\n",
       " 'Jeggings',\n",
       " 'Hair Colour',\n",
       " 'Concealer',\n",
       " 'Rompers',\n",
       " 'Body Lotion',\n",
       " 'Sunscreen',\n",
       " 'Booties',\n",
       " 'Waist Pouch',\n",
       " 'Hair Accessory',\n",
       " 'Rucksacks',\n",
       " 'Basketballs',\n",
       " 'Lehenga Choli',\n",
       " 'Clothing Set',\n",
       " 'Mascara',\n",
       " 'Toner',\n",
       " 'Cushion Covers',\n",
       " 'Key chain',\n",
       " 'Makeup Remover',\n",
       " 'Lip Plumper',\n",
       " 'Umbrellas',\n",
       " 'Face Serum and Gel',\n",
       " 'Hat',\n",
       " 'Mens Grooming Kit',\n",
       " 'Rain Trousers',\n",
       " 'Body Wash and Scrub',\n",
       " 'Suits',\n",
       " 'Ipad']"
      ]
     },
     "execution_count": 14,
     "metadata": {},
     "output_type": "execute_result"
    }
   ],
   "source": [
    "a"
   ]
  },
  {
   "cell_type": "code",
   "execution_count": null,
   "id": "98548de4-a685-4d26-bcb0-788a3eb76186",
   "metadata": {},
   "outputs": [],
   "source": []
  },
  {
   "cell_type": "code",
   "execution_count": 15,
   "id": "1e634511-4ccb-4ddc-a23d-7633e521900c",
   "metadata": {},
   "outputs": [
    {
     "data": {
      "text/plain": [
       "array(['Fall', 'Summer', 'Winter', 'Spring'], dtype=object)"
      ]
     },
     "execution_count": 15,
     "metadata": {},
     "output_type": "execute_result"
    }
   ],
   "source": [
    "df[\"season\"].unique()"
   ]
  },
  {
   "cell_type": "code",
   "execution_count": 16,
   "id": "d75f247d-ef01-4821-b50d-08da4e778195",
   "metadata": {},
   "outputs": [
    {
     "data": {
      "text/plain": [
       "array(['Men', 'Women', 'Boys', 'Girls', 'Unisex'], dtype=object)"
      ]
     },
     "execution_count": 16,
     "metadata": {},
     "output_type": "execute_result"
    }
   ],
   "source": [
    "df[\"gender\"].unique()"
   ]
  },
  {
   "cell_type": "code",
   "execution_count": 17,
   "id": "13b0b10b-662e-4f94-8809-f01371b21e03",
   "metadata": {},
   "outputs": [],
   "source": [
    "df.to_csv(\"Fashion Data/final_styles.csv\")"
   ]
  },
  {
   "cell_type": "code",
   "execution_count": 18,
   "id": "0a51e71f-aa1a-41d6-ad19-e9f68e1577f1",
   "metadata": {},
   "outputs": [
    {
     "data": {
      "text/html": [
       "<div>\n",
       "<style scoped>\n",
       "    .dataframe tbody tr th:only-of-type {\n",
       "        vertical-align: middle;\n",
       "    }\n",
       "\n",
       "    .dataframe tbody tr th {\n",
       "        vertical-align: top;\n",
       "    }\n",
       "\n",
       "    .dataframe thead th {\n",
       "        text-align: right;\n",
       "    }\n",
       "</style>\n",
       "<table border=\"1\" class=\"dataframe\">\n",
       "  <thead>\n",
       "    <tr style=\"text-align: right;\">\n",
       "      <th></th>\n",
       "      <th>id</th>\n",
       "      <th>gender</th>\n",
       "      <th>masterCategory</th>\n",
       "      <th>subCategory</th>\n",
       "      <th>articleType</th>\n",
       "      <th>baseColour</th>\n",
       "      <th>season</th>\n",
       "      <th>year</th>\n",
       "      <th>usage</th>\n",
       "      <th>productDisplayName</th>\n",
       "    </tr>\n",
       "  </thead>\n",
       "  <tbody>\n",
       "    <tr>\n",
       "      <th>12904</th>\n",
       "      <td>1163</td>\n",
       "      <td>Men</td>\n",
       "      <td>Apparel</td>\n",
       "      <td>Topwear</td>\n",
       "      <td>Tshirts</td>\n",
       "      <td>Blue</td>\n",
       "      <td>Summer</td>\n",
       "      <td>2011.0</td>\n",
       "      <td>Sports</td>\n",
       "      <td>Nike Sahara Team India Fanwear Round Neck Jersey</td>\n",
       "    </tr>\n",
       "  </tbody>\n",
       "</table>\n",
       "</div>"
      ],
      "text/plain": [
       "         id gender masterCategory subCategory articleType baseColour  season  \\\n",
       "12904  1163    Men        Apparel     Topwear     Tshirts       Blue  Summer   \n",
       "\n",
       "         year   usage                                productDisplayName  \n",
       "12904  2011.0  Sports  Nike Sahara Team India Fanwear Round Neck Jersey  "
      ]
     },
     "execution_count": 18,
     "metadata": {},
     "output_type": "execute_result"
    }
   ],
   "source": [
    "df[df[\"id\"] == 1163]"
   ]
  },
  {
   "cell_type": "code",
   "execution_count": 24,
   "id": "45422e6c-6c0d-4f06-98dc-336ea91cf2a5",
   "metadata": {},
   "outputs": [
    {
     "data": {
      "text/html": [
       "<div>\n",
       "<style scoped>\n",
       "    .dataframe tbody tr th:only-of-type {\n",
       "        vertical-align: middle;\n",
       "    }\n",
       "\n",
       "    .dataframe tbody tr th {\n",
       "        vertical-align: top;\n",
       "    }\n",
       "\n",
       "    .dataframe thead th {\n",
       "        text-align: right;\n",
       "    }\n",
       "</style>\n",
       "<table border=\"1\" class=\"dataframe\">\n",
       "  <thead>\n",
       "    <tr style=\"text-align: right;\">\n",
       "      <th></th>\n",
       "      <th>id</th>\n",
       "      <th>gender</th>\n",
       "      <th>masterCategory</th>\n",
       "      <th>subCategory</th>\n",
       "      <th>articleType</th>\n",
       "      <th>baseColour</th>\n",
       "      <th>season</th>\n",
       "      <th>year</th>\n",
       "      <th>usage</th>\n",
       "      <th>productDisplayName</th>\n",
       "    </tr>\n",
       "  </thead>\n",
       "  <tbody>\n",
       "    <tr>\n",
       "      <th>18</th>\n",
       "      <td>51832</td>\n",
       "      <td>Women</td>\n",
       "      <td>Apparel</td>\n",
       "      <td>Innerwear</td>\n",
       "      <td>Bra</td>\n",
       "      <td>Beige</td>\n",
       "      <td>Summer</td>\n",
       "      <td>2016.0</td>\n",
       "      <td>Casual</td>\n",
       "      <td>Bwitch Beige Full-Coverage Bra BW335</td>\n",
       "    </tr>\n",
       "    <tr>\n",
       "      <th>47</th>\n",
       "      <td>17871</td>\n",
       "      <td>Men</td>\n",
       "      <td>Apparel</td>\n",
       "      <td>Innerwear</td>\n",
       "      <td>Briefs</td>\n",
       "      <td>Maroon</td>\n",
       "      <td>Winter</td>\n",
       "      <td>2016.0</td>\n",
       "      <td>Casual</td>\n",
       "      <td>Levis Men Boxer Maroon Brief</td>\n",
       "    </tr>\n",
       "    <tr>\n",
       "      <th>53</th>\n",
       "      <td>32138</td>\n",
       "      <td>Men</td>\n",
       "      <td>Apparel</td>\n",
       "      <td>Innerwear</td>\n",
       "      <td>Briefs</td>\n",
       "      <td>Blue</td>\n",
       "      <td>Summer</td>\n",
       "      <td>2016.0</td>\n",
       "      <td>Casual</td>\n",
       "      <td>Playboy Men Blue Titanium Briefs</td>\n",
       "    </tr>\n",
       "    <tr>\n",
       "      <th>83</th>\n",
       "      <td>17885</td>\n",
       "      <td>Men</td>\n",
       "      <td>Apparel</td>\n",
       "      <td>Innerwear</td>\n",
       "      <td>Innerwear Vests</td>\n",
       "      <td>Grey</td>\n",
       "      <td>Summer</td>\n",
       "      <td>2016.0</td>\n",
       "      <td>Casual</td>\n",
       "      <td>Levis Men Comfort Style Grey Innerwear Vest</td>\n",
       "    </tr>\n",
       "    <tr>\n",
       "      <th>95</th>\n",
       "      <td>25349</td>\n",
       "      <td>Men</td>\n",
       "      <td>Apparel</td>\n",
       "      <td>Innerwear</td>\n",
       "      <td>Briefs</td>\n",
       "      <td>Red</td>\n",
       "      <td>Summer</td>\n",
       "      <td>2016.0</td>\n",
       "      <td>Casual</td>\n",
       "      <td>Levis Men Red Brief</td>\n",
       "    </tr>\n",
       "    <tr>\n",
       "      <th>...</th>\n",
       "      <td>...</td>\n",
       "      <td>...</td>\n",
       "      <td>...</td>\n",
       "      <td>...</td>\n",
       "      <td>...</td>\n",
       "      <td>...</td>\n",
       "      <td>...</td>\n",
       "      <td>...</td>\n",
       "      <td>...</td>\n",
       "      <td>...</td>\n",
       "    </tr>\n",
       "    <tr>\n",
       "      <th>44391</th>\n",
       "      <td>45647</td>\n",
       "      <td>Men</td>\n",
       "      <td>Apparel</td>\n",
       "      <td>Innerwear</td>\n",
       "      <td>Briefs</td>\n",
       "      <td>Navy Blue</td>\n",
       "      <td>Summer</td>\n",
       "      <td>2016.0</td>\n",
       "      <td>Casual</td>\n",
       "      <td>Park Avenue Men Navy Blue Briefs</td>\n",
       "    </tr>\n",
       "    <tr>\n",
       "      <th>44395</th>\n",
       "      <td>57382</td>\n",
       "      <td>Women</td>\n",
       "      <td>Apparel</td>\n",
       "      <td>Innerwear</td>\n",
       "      <td>Briefs</td>\n",
       "      <td>Black</td>\n",
       "      <td>Winter</td>\n",
       "      <td>2015.0</td>\n",
       "      <td>Casual</td>\n",
       "      <td>Amante Women Pack of 2 Briefs PFCN03</td>\n",
       "    </tr>\n",
       "    <tr>\n",
       "      <th>44399</th>\n",
       "      <td>27491</td>\n",
       "      <td>Women</td>\n",
       "      <td>Apparel</td>\n",
       "      <td>Innerwear</td>\n",
       "      <td>Briefs</td>\n",
       "      <td>Pink</td>\n",
       "      <td>Winter</td>\n",
       "      <td>2015.0</td>\n",
       "      <td>Casual</td>\n",
       "      <td>Jockey Women Pink Briefs</td>\n",
       "    </tr>\n",
       "    <tr>\n",
       "      <th>44424</th>\n",
       "      <td>15761</td>\n",
       "      <td>Men</td>\n",
       "      <td>Apparel</td>\n",
       "      <td>Innerwear</td>\n",
       "      <td>Innerwear Vests</td>\n",
       "      <td>Green</td>\n",
       "      <td>Summer</td>\n",
       "      <td>2016.0</td>\n",
       "      <td>Casual</td>\n",
       "      <td>Facit Men Hunk Green Innerwear Vest</td>\n",
       "    </tr>\n",
       "    <tr>\n",
       "      <th>44429</th>\n",
       "      <td>32143</td>\n",
       "      <td>Men</td>\n",
       "      <td>Apparel</td>\n",
       "      <td>Innerwear</td>\n",
       "      <td>Briefs</td>\n",
       "      <td>Red</td>\n",
       "      <td>Summer</td>\n",
       "      <td>2016.0</td>\n",
       "      <td>Casual</td>\n",
       "      <td>Playboy Men Duet Pack of 2 Briefs</td>\n",
       "    </tr>\n",
       "  </tbody>\n",
       "</table>\n",
       "<p>1808 rows × 10 columns</p>\n",
       "</div>"
      ],
      "text/plain": [
       "          id gender masterCategory subCategory      articleType baseColour  \\\n",
       "18     51832  Women        Apparel   Innerwear              Bra      Beige   \n",
       "47     17871    Men        Apparel   Innerwear           Briefs     Maroon   \n",
       "53     32138    Men        Apparel   Innerwear           Briefs       Blue   \n",
       "83     17885    Men        Apparel   Innerwear  Innerwear Vests       Grey   \n",
       "95     25349    Men        Apparel   Innerwear           Briefs        Red   \n",
       "...      ...    ...            ...         ...              ...        ...   \n",
       "44391  45647    Men        Apparel   Innerwear           Briefs  Navy Blue   \n",
       "44395  57382  Women        Apparel   Innerwear           Briefs      Black   \n",
       "44399  27491  Women        Apparel   Innerwear           Briefs       Pink   \n",
       "44424  15761    Men        Apparel   Innerwear  Innerwear Vests      Green   \n",
       "44429  32143    Men        Apparel   Innerwear           Briefs        Red   \n",
       "\n",
       "       season    year   usage                           productDisplayName  \n",
       "18     Summer  2016.0  Casual         Bwitch Beige Full-Coverage Bra BW335  \n",
       "47     Winter  2016.0  Casual                 Levis Men Boxer Maroon Brief  \n",
       "53     Summer  2016.0  Casual             Playboy Men Blue Titanium Briefs  \n",
       "83     Summer  2016.0  Casual  Levis Men Comfort Style Grey Innerwear Vest  \n",
       "95     Summer  2016.0  Casual                          Levis Men Red Brief  \n",
       "...       ...     ...     ...                                          ...  \n",
       "44391  Summer  2016.0  Casual             Park Avenue Men Navy Blue Briefs  \n",
       "44395  Winter  2015.0  Casual         Amante Women Pack of 2 Briefs PFCN03  \n",
       "44399  Winter  2015.0  Casual                     Jockey Women Pink Briefs  \n",
       "44424  Summer  2016.0  Casual          Facit Men Hunk Green Innerwear Vest  \n",
       "44429  Summer  2016.0  Casual            Playboy Men Duet Pack of 2 Briefs  \n",
       "\n",
       "[1808 rows x 10 columns]"
      ]
     },
     "execution_count": 24,
     "metadata": {},
     "output_type": "execute_result"
    }
   ],
   "source": [
    "df[df[\"subCategory\"] == \"Innerwear\"]"
   ]
  },
  {
   "cell_type": "code",
   "execution_count": 20,
   "id": "9f622093-4312-4291-814c-985cdac7e712",
   "metadata": {},
   "outputs": [
    {
     "ename": "NameError",
     "evalue": "name 'randint' is not defined",
     "output_type": "error",
     "traceback": [
      "\u001b[1;31m---------------------------------------------------------------------------\u001b[0m",
      "\u001b[1;31mNameError\u001b[0m                                 Traceback (most recent call last)",
      "Cell \u001b[1;32mIn[20], line 1\u001b[0m\n\u001b[1;32m----> 1\u001b[0m \u001b[43mrandint\u001b[49m()\n",
      "\u001b[1;31mNameError\u001b[0m: name 'randint' is not defined"
     ]
    }
   ],
   "source": [
    "randint()"
   ]
  },
  {
   "cell_type": "code",
   "execution_count": null,
   "id": "df1a3077-c219-497c-b9b5-81f678498807",
   "metadata": {},
   "outputs": [],
   "source": [
    "for i in range(5):\n",
    "    p = random.randint(0, len(a))\n",
    "    print(df[df[\"articleType\"] == a[p]])"
   ]
  },
  {
   "cell_type": "code",
   "execution_count": null,
   "id": "de28fb27-d428-40b0-ad22-f3fd61e6ba05",
   "metadata": {},
   "outputs": [],
   "source": [
    "a"
   ]
  },
  {
   "cell_type": "code",
   "execution_count": null,
   "id": "a2ee6299-0092-4a08-95da-2e1392ff8f39",
   "metadata": {},
   "outputs": [],
   "source": []
  }
 ],
 "metadata": {
  "kernelspec": {
   "display_name": "Python 3 (ipykernel)",
   "language": "python",
   "name": "python3"
  },
  "language_info": {
   "codemirror_mode": {
    "name": "ipython",
    "version": 3
   },
   "file_extension": ".py",
   "mimetype": "text/x-python",
   "name": "python",
   "nbconvert_exporter": "python",
   "pygments_lexer": "ipython3",
   "version": "3.9.13"
  }
 },
 "nbformat": 4,
 "nbformat_minor": 5
}
