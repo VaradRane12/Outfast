{
 "cells": [
  {
   "cell_type": "code",
   "execution_count": 1,
   "id": "f42666fb-e36d-4c33-bab4-f0600e2db417",
   "metadata": {},
   "outputs": [],
   "source": [
    "import pandas as pd"
   ]
  },
  {
   "cell_type": "code",
   "execution_count": 8,
   "id": "4a7989cf-421e-4c5c-854a-4d5a4464cdee",
   "metadata": {},
   "outputs": [],
   "source": [
    "df = pd.read_csv(r\"Fashion Data\\styles.csv\")"
   ]
  },
  {
   "cell_type": "code",
   "execution_count": 9,
   "id": "ed868e19-e05b-4340-909b-7bb985fb49e4",
   "metadata": {},
   "outputs": [
    {
     "data": {
      "text/html": [
       "<div>\n",
       "<style scoped>\n",
       "    .dataframe tbody tr th:only-of-type {\n",
       "        vertical-align: middle;\n",
       "    }\n",
       "\n",
       "    .dataframe tbody tr th {\n",
       "        vertical-align: top;\n",
       "    }\n",
       "\n",
       "    .dataframe thead th {\n",
       "        text-align: right;\n",
       "    }\n",
       "</style>\n",
       "<table border=\"1\" class=\"dataframe\">\n",
       "  <thead>\n",
       "    <tr style=\"text-align: right;\">\n",
       "      <th></th>\n",
       "      <th>id</th>\n",
       "      <th>gender</th>\n",
       "      <th>masterCategory</th>\n",
       "      <th>subCategory</th>\n",
       "      <th>articleType</th>\n",
       "      <th>baseColour</th>\n",
       "      <th>season</th>\n",
       "      <th>year</th>\n",
       "      <th>usage</th>\n",
       "      <th>productDisplayName</th>\n",
       "      <th>Unnamed: 10</th>\n",
       "      <th>Unnamed: 11</th>\n",
       "    </tr>\n",
       "  </thead>\n",
       "  <tbody>\n",
       "    <tr>\n",
       "      <th>0</th>\n",
       "      <td>15970</td>\n",
       "      <td>Men</td>\n",
       "      <td>Apparel</td>\n",
       "      <td>Topwear</td>\n",
       "      <td>Shirts</td>\n",
       "      <td>Navy Blue</td>\n",
       "      <td>Fall</td>\n",
       "      <td>2011.0</td>\n",
       "      <td>Casual</td>\n",
       "      <td>Turtle Check Men Navy Blue Shirt</td>\n",
       "      <td>NaN</td>\n",
       "      <td>NaN</td>\n",
       "    </tr>\n",
       "    <tr>\n",
       "      <th>1</th>\n",
       "      <td>39386</td>\n",
       "      <td>Men</td>\n",
       "      <td>Apparel</td>\n",
       "      <td>Bottomwear</td>\n",
       "      <td>Jeans</td>\n",
       "      <td>Blue</td>\n",
       "      <td>Summer</td>\n",
       "      <td>2012.0</td>\n",
       "      <td>Casual</td>\n",
       "      <td>Peter England Men Party Blue Jeans</td>\n",
       "      <td>NaN</td>\n",
       "      <td>NaN</td>\n",
       "    </tr>\n",
       "    <tr>\n",
       "      <th>2</th>\n",
       "      <td>59263</td>\n",
       "      <td>Women</td>\n",
       "      <td>Accessories</td>\n",
       "      <td>Watches</td>\n",
       "      <td>Watches</td>\n",
       "      <td>Silver</td>\n",
       "      <td>Winter</td>\n",
       "      <td>2016.0</td>\n",
       "      <td>Casual</td>\n",
       "      <td>Titan Women Silver Watch</td>\n",
       "      <td>NaN</td>\n",
       "      <td>NaN</td>\n",
       "    </tr>\n",
       "    <tr>\n",
       "      <th>3</th>\n",
       "      <td>21379</td>\n",
       "      <td>Men</td>\n",
       "      <td>Apparel</td>\n",
       "      <td>Bottomwear</td>\n",
       "      <td>Track Pants</td>\n",
       "      <td>Black</td>\n",
       "      <td>Fall</td>\n",
       "      <td>2011.0</td>\n",
       "      <td>Casual</td>\n",
       "      <td>Manchester United Men Solid Black Track Pants</td>\n",
       "      <td>NaN</td>\n",
       "      <td>NaN</td>\n",
       "    </tr>\n",
       "    <tr>\n",
       "      <th>4</th>\n",
       "      <td>53759</td>\n",
       "      <td>Men</td>\n",
       "      <td>Apparel</td>\n",
       "      <td>Topwear</td>\n",
       "      <td>Tshirts</td>\n",
       "      <td>Grey</td>\n",
       "      <td>Summer</td>\n",
       "      <td>2012.0</td>\n",
       "      <td>Casual</td>\n",
       "      <td>Puma Men Grey T-shirt</td>\n",
       "      <td>NaN</td>\n",
       "      <td>NaN</td>\n",
       "    </tr>\n",
       "  </tbody>\n",
       "</table>\n",
       "</div>"
      ],
      "text/plain": [
       "      id gender masterCategory subCategory  articleType baseColour  season  \\\n",
       "0  15970    Men        Apparel     Topwear       Shirts  Navy Blue    Fall   \n",
       "1  39386    Men        Apparel  Bottomwear        Jeans       Blue  Summer   \n",
       "2  59263  Women    Accessories     Watches      Watches     Silver  Winter   \n",
       "3  21379    Men        Apparel  Bottomwear  Track Pants      Black    Fall   \n",
       "4  53759    Men        Apparel     Topwear      Tshirts       Grey  Summer   \n",
       "\n",
       "     year   usage                             productDisplayName  Unnamed: 10  \\\n",
       "0  2011.0  Casual               Turtle Check Men Navy Blue Shirt          NaN   \n",
       "1  2012.0  Casual             Peter England Men Party Blue Jeans          NaN   \n",
       "2  2016.0  Casual                       Titan Women Silver Watch          NaN   \n",
       "3  2011.0  Casual  Manchester United Men Solid Black Track Pants          NaN   \n",
       "4  2012.0  Casual                          Puma Men Grey T-shirt          NaN   \n",
       "\n",
       "  Unnamed: 11  \n",
       "0         NaN  \n",
       "1         NaN  \n",
       "2         NaN  \n",
       "3         NaN  \n",
       "4         NaN  "
      ]
     },
     "execution_count": 9,
     "metadata": {},
     "output_type": "execute_result"
    }
   ],
   "source": [
    "df.head()"
   ]
  },
  {
   "cell_type": "code",
   "execution_count": 11,
   "id": "c4621fee-86e8-4f60-9e84-e23c9e086a76",
   "metadata": {},
   "outputs": [
    {
     "data": {
      "text/plain": [
       "id                        0\n",
       "gender                    0\n",
       "masterCategory            0\n",
       "subCategory               0\n",
       "articleType               0\n",
       "baseColour               15\n",
       "season                   21\n",
       "year                      1\n",
       "usage                   317\n",
       "productDisplayName        7\n",
       "Unnamed: 10           44446\n",
       "Unnamed: 11           44444\n",
       "dtype: int64"
      ]
     },
     "execution_count": 11,
     "metadata": {},
     "output_type": "execute_result"
    }
   ],
   "source": [
    "df.isna().sum()"
   ]
  },
  {
   "cell_type": "code",
   "execution_count": 13,
   "id": "fb4b07a3-d4f6-440a-995c-e2d9f183a761",
   "metadata": {},
   "outputs": [],
   "source": [
    "df.drop([\"Unnamed: 10\",\"Unnamed: 11\"],axis = 1,inplace = True)"
   ]
  },
  {
   "cell_type": "code",
   "execution_count": 14,
   "id": "43b84fce-3c76-44e1-9c1e-d34758b470a7",
   "metadata": {},
   "outputs": [
    {
     "data": {
      "text/html": [
       "<div>\n",
       "<style scoped>\n",
       "    .dataframe tbody tr th:only-of-type {\n",
       "        vertical-align: middle;\n",
       "    }\n",
       "\n",
       "    .dataframe tbody tr th {\n",
       "        vertical-align: top;\n",
       "    }\n",
       "\n",
       "    .dataframe thead th {\n",
       "        text-align: right;\n",
       "    }\n",
       "</style>\n",
       "<table border=\"1\" class=\"dataframe\">\n",
       "  <thead>\n",
       "    <tr style=\"text-align: right;\">\n",
       "      <th></th>\n",
       "      <th>id</th>\n",
       "      <th>gender</th>\n",
       "      <th>masterCategory</th>\n",
       "      <th>subCategory</th>\n",
       "      <th>articleType</th>\n",
       "      <th>baseColour</th>\n",
       "      <th>season</th>\n",
       "      <th>year</th>\n",
       "      <th>usage</th>\n",
       "      <th>productDisplayName</th>\n",
       "    </tr>\n",
       "  </thead>\n",
       "  <tbody>\n",
       "    <tr>\n",
       "      <th>0</th>\n",
       "      <td>15970</td>\n",
       "      <td>Men</td>\n",
       "      <td>Apparel</td>\n",
       "      <td>Topwear</td>\n",
       "      <td>Shirts</td>\n",
       "      <td>Navy Blue</td>\n",
       "      <td>Fall</td>\n",
       "      <td>2011.0</td>\n",
       "      <td>Casual</td>\n",
       "      <td>Turtle Check Men Navy Blue Shirt</td>\n",
       "    </tr>\n",
       "    <tr>\n",
       "      <th>1</th>\n",
       "      <td>39386</td>\n",
       "      <td>Men</td>\n",
       "      <td>Apparel</td>\n",
       "      <td>Bottomwear</td>\n",
       "      <td>Jeans</td>\n",
       "      <td>Blue</td>\n",
       "      <td>Summer</td>\n",
       "      <td>2012.0</td>\n",
       "      <td>Casual</td>\n",
       "      <td>Peter England Men Party Blue Jeans</td>\n",
       "    </tr>\n",
       "    <tr>\n",
       "      <th>2</th>\n",
       "      <td>59263</td>\n",
       "      <td>Women</td>\n",
       "      <td>Accessories</td>\n",
       "      <td>Watches</td>\n",
       "      <td>Watches</td>\n",
       "      <td>Silver</td>\n",
       "      <td>Winter</td>\n",
       "      <td>2016.0</td>\n",
       "      <td>Casual</td>\n",
       "      <td>Titan Women Silver Watch</td>\n",
       "    </tr>\n",
       "    <tr>\n",
       "      <th>3</th>\n",
       "      <td>21379</td>\n",
       "      <td>Men</td>\n",
       "      <td>Apparel</td>\n",
       "      <td>Bottomwear</td>\n",
       "      <td>Track Pants</td>\n",
       "      <td>Black</td>\n",
       "      <td>Fall</td>\n",
       "      <td>2011.0</td>\n",
       "      <td>Casual</td>\n",
       "      <td>Manchester United Men Solid Black Track Pants</td>\n",
       "    </tr>\n",
       "    <tr>\n",
       "      <th>4</th>\n",
       "      <td>53759</td>\n",
       "      <td>Men</td>\n",
       "      <td>Apparel</td>\n",
       "      <td>Topwear</td>\n",
       "      <td>Tshirts</td>\n",
       "      <td>Grey</td>\n",
       "      <td>Summer</td>\n",
       "      <td>2012.0</td>\n",
       "      <td>Casual</td>\n",
       "      <td>Puma Men Grey T-shirt</td>\n",
       "    </tr>\n",
       "  </tbody>\n",
       "</table>\n",
       "</div>"
      ],
      "text/plain": [
       "      id gender masterCategory subCategory  articleType baseColour  season  \\\n",
       "0  15970    Men        Apparel     Topwear       Shirts  Navy Blue    Fall   \n",
       "1  39386    Men        Apparel  Bottomwear        Jeans       Blue  Summer   \n",
       "2  59263  Women    Accessories     Watches      Watches     Silver  Winter   \n",
       "3  21379    Men        Apparel  Bottomwear  Track Pants      Black    Fall   \n",
       "4  53759    Men        Apparel     Topwear      Tshirts       Grey  Summer   \n",
       "\n",
       "     year   usage                             productDisplayName  \n",
       "0  2011.0  Casual               Turtle Check Men Navy Blue Shirt  \n",
       "1  2012.0  Casual             Peter England Men Party Blue Jeans  \n",
       "2  2016.0  Casual                       Titan Women Silver Watch  \n",
       "3  2011.0  Casual  Manchester United Men Solid Black Track Pants  \n",
       "4  2012.0  Casual                          Puma Men Grey T-shirt  "
      ]
     },
     "execution_count": 14,
     "metadata": {},
     "output_type": "execute_result"
    }
   ],
   "source": [
    "df.head()"
   ]
  },
  {
   "cell_type": "code",
   "execution_count": 15,
   "id": "f99b6ca8-1033-4f2d-b66f-c1774e74e42d",
   "metadata": {},
   "outputs": [],
   "source": [
    "df = df.apply(lambda col: col.fillna(col.mode()[0]))"
   ]
  },
  {
   "cell_type": "code",
   "execution_count": 17,
   "id": "489db7be-f819-4962-90f6-ed1ad3f77466",
   "metadata": {},
   "outputs": [
    {
     "data": {
      "text/plain": [
       "id                    0\n",
       "gender                0\n",
       "masterCategory        0\n",
       "subCategory           0\n",
       "articleType           0\n",
       "baseColour            0\n",
       "season                0\n",
       "year                  0\n",
       "usage                 0\n",
       "productDisplayName    0\n",
       "dtype: int64"
      ]
     },
     "execution_count": 17,
     "metadata": {},
     "output_type": "execute_result"
    }
   ],
   "source": [
    "df.isna().sum()"
   ]
  },
  {
   "cell_type": "code",
   "execution_count": 19,
   "id": "ed126259-a05f-4fb0-a90a-3b48483e10db",
   "metadata": {},
   "outputs": [
    {
     "data": {
      "text/plain": [
       "Index(['id', 'gender', 'masterCategory', 'subCategory', 'articleType',\n",
       "       'baseColour', 'season', 'year', 'usage', 'productDisplayName'],\n",
       "      dtype='object')"
      ]
     },
     "execution_count": 19,
     "metadata": {},
     "output_type": "execute_result"
    }
   ],
   "source": [
    "df.columns"
   ]
  },
  {
   "cell_type": "code",
   "execution_count": 21,
   "id": "d261c48d-38aa-46a9-8f96-26e5d5cfb63e",
   "metadata": {},
   "outputs": [
    {
     "data": {
      "text/plain": [
       "array(['Topwear', 'Bottomwear', 'Watches', 'Socks', 'Shoes', 'Belts',\n",
       "       'Flip Flops', 'Bags', 'Innerwear', 'Sandal', 'Shoe Accessories',\n",
       "       'Fragrance', 'Jewellery', 'Lips', 'Saree', 'Eyewear', 'Nails',\n",
       "       'Scarves', 'Dress', 'Loungewear and Nightwear', 'Wallets',\n",
       "       'Apparel Set', 'Headwear', 'Mufflers', 'Skin Care', 'Makeup',\n",
       "       'Free Gifts', 'Ties', 'Accessories', 'Skin', 'Beauty Accessories',\n",
       "       'Water Bottle', 'Eyes', 'Bath and Body', 'Gloves',\n",
       "       'Sports Accessories', 'Cufflinks', 'Sports Equipment', 'Stoles',\n",
       "       'Hair', 'Perfumes', 'Home Furnishing', 'Umbrellas', 'Wristbands',\n",
       "       'Vouchers'], dtype=object)"
      ]
     },
     "execution_count": 21,
     "metadata": {},
     "output_type": "execute_result"
    }
   ],
   "source": [
    "df[\"subCategory\"].unique()"
   ]
  },
  {
   "cell_type": "code",
   "execution_count": 22,
   "id": "85601afe-a9e4-422d-b175-8767a366c222",
   "metadata": {},
   "outputs": [
    {
     "data": {
      "text/plain": [
       "array(['Shirts', 'Jeans', 'Watches', 'Track Pants', 'Tshirts', 'Socks',\n",
       "       'Casual Shoes', 'Belts', 'Flip Flops', 'Handbags', 'Tops', 'Bra',\n",
       "       'Sandals', 'Shoe Accessories', 'Sweatshirts', 'Deodorant',\n",
       "       'Formal Shoes', 'Bracelet', 'Lipstick', 'Flats', 'Kurtas',\n",
       "       'Waistcoat', 'Sports Shoes', 'Shorts', 'Briefs', 'Sarees',\n",
       "       'Perfume and Body Mist', 'Heels', 'Sunglasses', 'Innerwear Vests',\n",
       "       'Pendant', 'Nail Polish', 'Laptop Bag', 'Scarves', 'Rain Jacket',\n",
       "       'Dresses', 'Night suits', 'Skirts', 'Wallets', 'Blazers', 'Ring',\n",
       "       'Kurta Sets', 'Clutches', 'Shrug', 'Backpacks', 'Caps', 'Trousers',\n",
       "       'Earrings', 'Camisoles', 'Boxers', 'Jewellery Set', 'Dupatta',\n",
       "       'Capris', 'Lip Gloss', 'Bath Robe', 'Mufflers', 'Tunics',\n",
       "       'Jackets', 'Trunk', 'Lounge Pants', 'Face Wash and Cleanser',\n",
       "       'Necklace and Chains', 'Duffel Bag', 'Sports Sandals',\n",
       "       'Foundation and Primer', 'Sweaters', 'Free Gifts', 'Trolley Bag',\n",
       "       'Tracksuits', 'Swimwear', 'Shoe Laces', 'Fragrance Gift Set',\n",
       "       'Bangle', 'Nightdress', 'Ties', 'Baby Dolls', 'Leggings',\n",
       "       'Highlighter and Blush', 'Travel Accessory', 'Kurtis',\n",
       "       'Mobile Pouch', 'Messenger Bag', 'Lip Care', 'Face Moisturisers',\n",
       "       'Compact', 'Eye Cream', 'Accessory Gift Set', 'Beauty Accessory',\n",
       "       'Jumpsuit', 'Kajal and Eyeliner', 'Water Bottle', 'Suspenders',\n",
       "       'Lip Liner', 'Robe', 'Salwar and Dupatta', 'Patiala', 'Stockings',\n",
       "       'Eyeshadow', 'Headband', 'Tights', 'Nail Essentials', 'Churidar',\n",
       "       'Lounge Tshirts', 'Face Scrub and Exfoliator', 'Lounge Shorts',\n",
       "       'Gloves', 'Mask and Peel', 'Wristbands', 'Tablet Sleeve',\n",
       "       'Ties and Cufflinks', 'Footballs', 'Stoles', 'Shapewear',\n",
       "       'Nehru Jackets', 'Salwar', 'Cufflinks', 'Jeggings', 'Hair Colour',\n",
       "       'Concealer', 'Rompers', 'Body Lotion', 'Sunscreen', 'Booties',\n",
       "       'Waist Pouch', 'Hair Accessory', 'Rucksacks', 'Basketballs',\n",
       "       'Lehenga Choli', 'Clothing Set', 'Mascara', 'Toner',\n",
       "       'Cushion Covers', 'Key chain', 'Makeup Remover', 'Lip Plumper',\n",
       "       'Umbrellas', 'Face Serum and Gel', 'Hat', 'Mens Grooming Kit',\n",
       "       'Rain Trousers', 'Body Wash and Scrub', 'Suits', 'Ipad'],\n",
       "      dtype=object)"
      ]
     },
     "execution_count": 22,
     "metadata": {},
     "output_type": "execute_result"
    }
   ],
   "source": [
    "df[\"articleType\"].unique()"
   ]
  },
  {
   "cell_type": "code",
   "execution_count": 23,
   "id": "1e634511-4ccb-4ddc-a23d-7633e521900c",
   "metadata": {},
   "outputs": [
    {
     "data": {
      "text/plain": [
       "array(['Fall', 'Summer', 'Winter', 'Spring'], dtype=object)"
      ]
     },
     "execution_count": 23,
     "metadata": {},
     "output_type": "execute_result"
    }
   ],
   "source": [
    "df[\"season\"].unique()"
   ]
  },
  {
   "cell_type": "code",
   "execution_count": 24,
   "id": "d75f247d-ef01-4821-b50d-08da4e778195",
   "metadata": {},
   "outputs": [
    {
     "data": {
      "text/plain": [
       "array(['Men', 'Women', 'Boys', 'Girls', 'Unisex'], dtype=object)"
      ]
     },
     "execution_count": 24,
     "metadata": {},
     "output_type": "execute_result"
    }
   ],
   "source": [
    "df[\"gender\"].unique()"
   ]
  },
  {
   "cell_type": "code",
   "execution_count": 25,
   "id": "13b0b10b-662e-4f94-8809-f01371b21e03",
   "metadata": {},
   "outputs": [],
   "source": [
    "df.to_csv(\"Fashion Data/final_styles.csv\")"
   ]
  },
  {
   "cell_type": "code",
   "execution_count": null,
   "id": "0a51e71f-aa1a-41d6-ad19-e9f68e1577f1",
   "metadata": {},
   "outputs": [],
   "source": []
  }
 ],
 "metadata": {
  "kernelspec": {
   "display_name": "Python 3 (ipykernel)",
   "language": "python",
   "name": "python3"
  },
  "language_info": {
   "codemirror_mode": {
    "name": "ipython",
    "version": 3
   },
   "file_extension": ".py",
   "mimetype": "text/x-python",
   "name": "python",
   "nbconvert_exporter": "python",
   "pygments_lexer": "ipython3",
   "version": "3.9.13"
  }
 },
 "nbformat": 4,
 "nbformat_minor": 5
}
